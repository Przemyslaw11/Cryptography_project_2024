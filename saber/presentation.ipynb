{
 "cells": [
  {
   "cell_type": "markdown",
   "metadata": {},
   "source": [
    "# Implementation of the SABER Key Encapsulation Algorithm\n",
    "\n",
    "It is a repository with the source code and materials for the project of the 2024 class of the *Cryptography methods in data science* course at the AGH University of Krakow. The scope of the project is to implement the post-quantum [SABER](https://www.esat.kuleuven.be/cosic/pqcrypto/saber/index.html) algorithm in a high-level programming language - Python.\n",
    "\n",
    "The implementation is based on the SABER specification document, esspecially relevant sections are:\n",
    "- [Section 2](https://www.esat.kuleuven.be/cosic/pqcrypto/saber/files/saberspecround3.pdf#page=7.37): General algorithm specification,\n",
    "- [Section 8](https://www.esat.kuleuven.be/cosic/pqcrypto/saber/files/saberspecround3.pdf#page=23.80): Technical Specifications.\n",
    "\n",
    "## Relevant links\n",
    "\n",
    "- SABER main page: https://www.esat.kuleuven.be/cosic/pqcrypto/saber/index.html\n",
    "- Specification PDF (located in `/materials/saberspecround3.pdf`): https://www.esat.kuleuven.be/cosic/pqcrypto/saber/files/saberspecround3.pdf\n",
    "- Official SABER implementation in C: https://github.com/KULeuven-COSIC/SABER\n",
    "- Third party C++ implementation: https://github.com/itzmeanjan/saber\n",
    "\n",
    "## Getting started"
   ]
  },
  {
   "cell_type": "code",
   "execution_count": 19,
   "metadata": {
    "is_executing": true
   },
   "outputs": [],
   "source": [
    "# Install the `saber` package:\n",
    "# !git clone https://github.com/Przemyslaw11/Saber.git\n",
    "# !cd Saber/\n",
    "# !pip install -e .\n",
    "\n",
    "# Required imports\n",
    "from utils.constants import CONSTANTS_LIGHT_SABER\n",
    "from utils.algorithms import randombytes\n",
    "from Crypto.Cipher import AES\n",
    "from pke import PKE\n",
    "from kem import KEM"
   ]
  },
  {
   "cell_type": "markdown",
   "metadata": {},
   "source": [
    "## Example 1: Classic public key encryption (PKE)\n",
    "In this example Alice (sender) wants to send data to Bob (receiver). The symmetric key is safely distributed thanks to the PKE system. Once the symmetric key is shared, they can communicate securely and efficiently with symmetric encryption, e.g. AES.\n",
    "\n",
    "### SABER PKE specificaiton:\n",
    "<img src=\"../materials/_img/spec-pke.png\" width=\"750\">"
   ]
  },
  {
   "cell_type": "markdown",
   "metadata": {},
   "source": [
    "### Definition of the cryptosystem"
   ]
  },
  {
   "cell_type": "code",
   "execution_count": 20,
   "metadata": {},
   "outputs": [],
   "source": [
    "# Generate a random seed\n",
    "seed = randombytes(CONSTANTS_LIGHT_SABER[\"SABER_SEEDBYTES\"])\n",
    "\n",
    "# Define the PKE class\n",
    "pke = PKE(**CONSTANTS_LIGHT_SABER)"
   ]
  },
  {
   "cell_type": "markdown",
   "metadata": {},
   "source": [
    "### Bob generates a public/secret key pair\n",
    "He sends the public key to Alice, and keeps the secret key to himself."
   ]
  },
  {
   "cell_type": "code",
   "execution_count": 21,
   "metadata": {},
   "outputs": [],
   "source": [
    "pk_B, sk_B = pke.KeyGen()"
   ]
  },
  {
   "cell_type": "markdown",
   "metadata": {},
   "source": [
    "### Alice encrypts the symmetric key with Bob's public key\n",
    "She generates the symmetric key, encrypts it with Bob's public key, and sends it back to Bob."
   ]
  },
  {
   "cell_type": "code",
   "execution_count": 22,
   "metadata": {},
   "outputs": [],
   "source": [
    "# The symmetric key to encrypt\n",
    "symmetric_key_alice = bytes(\"This is my awesome symmetric key\", encoding=\"utf-8\")\n",
    "\n",
    "# Encrypt the symmetric key with the Bob's public key\n",
    "ciphertext = pke.Enc(symmetric_key_alice, seed, pk_B)"
   ]
  },
  {
   "cell_type": "markdown",
   "metadata": {},
   "source": [
    "### Bob decrypts the symmetric key with his secret key"
   ]
  },
  {
   "cell_type": "code",
   "execution_count": 23,
   "metadata": {},
   "outputs": [],
   "source": [
    "# Decrypt the message with the secret key\n",
    "symmetric_key_bob = pke.Dec(ciphertext, sk_B)"
   ]
  },
  {
   "cell_type": "markdown",
   "metadata": {},
   "source": [
    "### Symmetric key encryption for efficient communication\n",
    "Now both Alice and Bob have the same symmetric key, and they can use it to communicate efficiently using the symmetric key encryption scheme, for example, AES."
   ]
  },
  {
   "cell_type": "code",
   "execution_count": 24,
   "metadata": {},
   "outputs": [],
   "source": [
    "assert symmetric_key_alice == symmetric_key_bob, \"Decryption failed!\"\n",
    "\n",
    "iv = randombytes(16)"
   ]
  },
  {
   "cell_type": "markdown",
   "metadata": {},
   "source": [
    "#### 1. Alice sends data to Bob"
   ]
  },
  {
   "cell_type": "code",
   "execution_count": 25,
   "metadata": {},
   "outputs": [],
   "source": [
    "aes_A = AES.new(symmetric_key_alice, AES.MODE_CBC, iv)\n",
    "\n",
    "data = \"Hi Bob, it's Alice! Have you heard about the SABER algorithm?\".encode('utf-8')\n",
    "data = data + b\"\\x00\" * (16 - len(data) % 16)  # Padding (if needed)\n",
    "aes_encrypted= aes_A.encrypt(data)"
   ]
  },
  {
   "cell_type": "markdown",
   "metadata": {},
   "source": [
    "#### 2. Bob decrypts the data"
   ]
  },
  {
   "cell_type": "code",
   "execution_count": 26,
   "metadata": {},
   "outputs": [],
   "source": [
    "aes_B = AES.new(symmetric_key_bob, AES.MODE_CBC, iv)\n",
    "\n",
    "decrypted_data = aes_B.decrypt(aes_encrypted)"
   ]
  },
  {
   "cell_type": "markdown",
   "metadata": {},
   "source": [
    "#### 3. Test"
   ]
  },
  {
   "cell_type": "code",
   "execution_count": 27,
   "metadata": {},
   "outputs": [
    {
     "name": "stdout",
     "output_type": "stream",
     "text": [
      "Original data:  b\"Hi Bob, it's Alice! Have you heard about the SABER algorithm?\\x00\\x00\\x00\"\n",
      "Decrypted data: b\"Hi Bob, it's Alice! Have you heard about the SABER algorithm?\\x00\\x00\\x00\"\n",
      "Decryption successful!\n"
     ]
    }
   ],
   "source": [
    "print(f\"Original data:  {data}\")\n",
    "print(f\"Decrypted data: {decrypted_data}\")\n",
    "\n",
    "assert data == decrypted_data, \"Decryption failed!\"\n",
    "print(\"Decryption successful!\")"
   ]
  },
  {
   "cell_type": "markdown",
   "metadata": {},
   "source": [
    "## Example 2: Key encapsulation mechanism (KEM)\n",
    "This use case is similar to the previous one, but thanks to KEM, Alice gets the symetric key along the ciphertext in one step, from Bob's public key. She does not need to generate the symmetric key by herself. Bob can decrypt the recived ciphertext to get the same symmetric key as Alice has and they can communicate securely and efficiently with symmetric encryption, e.g. AES.\n",
    "\n",
    "### SABER KEM specificaiton:\n",
    "\n",
    "<img src=\"../materials/_img/spec-kem.png\" width=\"750\">"
   ]
  },
  {
   "cell_type": "markdown",
   "metadata": {},
   "source": [
    "### Definition of the cryptosystem"
   ]
  },
  {
   "cell_type": "code",
   "execution_count": 28,
   "metadata": {},
   "outputs": [],
   "source": [
    "# Define the PKE class\n",
    "kem = KEM(**CONSTANTS_LIGHT_SABER)"
   ]
  },
  {
   "cell_type": "markdown",
   "metadata": {},
   "source": [
    "### Bob generates a public/secret key pair\n",
    "He sends the public key to Alice, and keeps the secret key to himself."
   ]
  },
  {
   "cell_type": "code",
   "execution_count": 29,
   "metadata": {},
   "outputs": [],
   "source": [
    "pk, sk = kem.KeyGen()"
   ]
  },
  {
   "cell_type": "markdown",
   "metadata": {},
   "source": [
    "### Alice encapsulates the Bob's public key\n",
    "She encapsulates the Bob's public key to get the session key along the ciphertext. She keeps the session key and sends the ciphertext to Bob."
   ]
  },
  {
   "cell_type": "code",
   "execution_count": 30,
   "metadata": {},
   "outputs": [],
   "source": [
    "session_key_alice, ciphertext = kem.Encaps(pk)"
   ]
  },
  {
   "cell_type": "markdown",
   "metadata": {},
   "source": [
    "### Eve intercepts the public key\n",
    "Eve intercepts the public key and tries to get the session key. But her attempt is unsuccessfull because each encapsulation is random."
   ]
  },
  {
   "cell_type": "code",
   "execution_count": 31,
   "metadata": {},
   "outputs": [
    {
     "name": "stdout",
     "output_type": "stream",
     "text": [
      "Session key is secure!\n"
     ]
    }
   ],
   "source": [
    "session_key_eve = kem.Encaps(pk)\n",
    "\n",
    "assert session_key_alice != session_key_eve, \"Eavesdropping Eve has compromised the session key!\"\n",
    "print(\"Session key is secure!\")"
   ]
  },
  {
   "cell_type": "markdown",
   "metadata": {},
   "source": [
    "### Bob decapsulates the ciphertext\n",
    "He decapsulates the ciphertext with his secret key to get the session key. Now both Alice and Bob have the same symmetric key."
   ]
  },
  {
   "cell_type": "code",
   "execution_count": 32,
   "metadata": {},
   "outputs": [],
   "source": [
    "session_key_bob = kem.Decaps(ciphertext, sk)"
   ]
  },
  {
   "cell_type": "markdown",
   "metadata": {},
   "source": [
    "### Symmetric key encryption for efficient communication\n",
    "Now both Alice and Bob have the same session key (symmetric), and they can use it to communicate efficiently using the symmetric key encryption scheme, for example, AES."
   ]
  },
  {
   "cell_type": "code",
   "execution_count": 33,
   "metadata": {},
   "outputs": [],
   "source": [
    "assert session_key_alice == session_key_bob, \"Wrong session key!\"\n",
    "\n",
    "iv = randombytes(16)"
   ]
  },
  {
   "cell_type": "markdown",
   "metadata": {},
   "source": [
    "#### 1. Alice sends data to Bob"
   ]
  },
  {
   "cell_type": "code",
   "execution_count": 34,
   "metadata": {},
   "outputs": [],
   "source": [
    "aes_A = AES.new(session_key_alice, AES.MODE_CBC, iv)\n",
    "\n",
    "data = 'Hi Bob! Our communication is now resilient for quantum atacks!'.encode('utf-8')\n",
    "data = data + b\"\\x00\" * (16 - len(data) % 16)  # Padding (if needed)\n",
    "aes_encrypted= aes_A.encrypt(data)"
   ]
  },
  {
   "cell_type": "markdown",
   "metadata": {},
   "source": [
    "#### 2. Bob decrypts the data"
   ]
  },
  {
   "cell_type": "code",
   "execution_count": 35,
   "metadata": {},
   "outputs": [],
   "source": [
    "aes_B = AES.new(session_key_bob, AES.MODE_CBC, iv)\n",
    "\n",
    "decrypted_data = aes_B.decrypt(aes_encrypted)"
   ]
  },
  {
   "cell_type": "markdown",
   "metadata": {},
   "source": [
    "#### 3. Test"
   ]
  },
  {
   "cell_type": "code",
   "execution_count": 36,
   "metadata": {},
   "outputs": [
    {
     "name": "stdout",
     "output_type": "stream",
     "text": [
      "Original data:  b'Hi Bob! Our communication is now resilient for quantum atacks!\\x00\\x00'\n",
      "Decrypted data: b'Hi Bob! Our communication is now resilient for quantum atacks!\\x00\\x00'\n",
      "Decryption successful!\n"
     ]
    }
   ],
   "source": [
    "print(f\"Original data:  {data}\")\n",
    "print(f\"Decrypted data: {decrypted_data}\")\n",
    "\n",
    "assert data == decrypted_data, \"Decryption failed!\"\n",
    "print(\"Decryption successful!\")"
   ]
  },
  {
   "cell_type": "code",
   "execution_count": null,
   "metadata": {},
   "outputs": [],
   "source": []
  }
 ],
 "metadata": {
  "kernelspec": {
   "display_name": "Python 3 (ipykernel)",
   "language": "python",
   "name": "python3"
  },
  "language_info": {
   "codemirror_mode": {
    "name": "ipython",
    "version": 3
   },
   "file_extension": ".py",
   "mimetype": "text/x-python",
   "name": "python",
   "nbconvert_exporter": "python",
   "pygments_lexer": "ipython3",
   "version": "3.10.4"
  }
 },
 "nbformat": 4,
 "nbformat_minor": 4
}
