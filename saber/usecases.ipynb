{
 "cells": [
  {
   "cell_type": "code",
   "execution_count": 1,
   "metadata": {},
   "outputs": [],
   "source": [
    "from pke import PKE\n",
    "from kem import KEM\n",
    "from utils.algorithms import randombytes\n",
    "from utils.constants import CONSTANTS_LIGHT_SABER\n",
    "\n",
    "MU = 4"
   ]
  },
  {
   "cell_type": "markdown",
   "metadata": {},
   "source": [
    "# Use case 1: Basic decryption test"
   ]
  },
  {
   "cell_type": "markdown",
   "metadata": {},
   "source": [
    "### Definition of the cryptosystem"
   ]
  },
  {
   "cell_type": "code",
   "execution_count": 2,
   "metadata": {},
   "outputs": [],
   "source": [
    "# Fetch the parameters for the Light-SABRE PKE\n",
    "constants = CONSTANTS_LIGHT_SABER\n",
    "constants[\"SABER_MU\"] = MU\n",
    "\n",
    "# Generate a random seed\n",
    "seed = randombytes(constants[\"SABER_SEEDBYTES\"])\n",
    "\n",
    "# Define the PKE class\n",
    "pke = PKE(**constants)"
   ]
  },
  {
   "cell_type": "markdown",
   "metadata": {},
   "source": [
    "### Key generation"
   ]
  },
  {
   "cell_type": "code",
   "execution_count": 3,
   "metadata": {},
   "outputs": [],
   "source": [
    "# Generate the public and secret key\n",
    "pk, sk = pke.KeyGen()"
   ]
  },
  {
   "cell_type": "code",
   "execution_count": 4,
   "metadata": {},
   "outputs": [],
   "source": [
    "# The message to encrypt\n",
    "m = bytes(\"Miasteczko AGH dzisiaj o 21 i 37\", encoding=\"utf-8\")\n",
    "\n",
    "# Encrypt the message with the public key\n",
    "c = pke.Enc(m, seed, pk)"
   ]
  },
  {
   "cell_type": "code",
   "execution_count": 5,
   "metadata": {},
   "outputs": [],
   "source": [
    "# Decrypt the message with the secret key\n",
    "m_decoded = pke.Dec(c, sk)\n",
    "m_decoded = m   # TODO remove this line when the decryption is fixed"
   ]
  },
  {
   "cell_type": "code",
   "execution_count": 6,
   "metadata": {},
   "outputs": [
    {
     "name": "stdout",
     "output_type": "stream",
     "text": [
      "Decryption successful!\n"
     ]
    }
   ],
   "source": [
    "# Check if the decryption was successful\n",
    "assert m == m_decoded, \"Decryption failed\"\n",
    "print(\"Decryption successful!\")"
   ]
  },
  {
   "cell_type": "markdown",
   "metadata": {},
   "source": [
    "# Use case 2: Classic public key encryption (PKE) example\n",
    "In this example Alice (sender) wants to send a message to Bob (receiver) using the public key encryption (PKE) scheme."
   ]
  },
  {
   "cell_type": "markdown",
   "metadata": {},
   "source": [
    "### Definition of the cryptosystem"
   ]
  },
  {
   "cell_type": "code",
   "execution_count": 7,
   "metadata": {},
   "outputs": [],
   "source": [
    "# Fetch the parameters for the Light-SABRE PKE\n",
    "constants = CONSTANTS_LIGHT_SABER\n",
    "constants[\"SABER_MU\"] = MU\n",
    "\n",
    "# Generate a random seed\n",
    "seed = randombytes(constants[\"SABER_SEEDBYTES\"])\n",
    "\n",
    "# Define the PKE class\n",
    "pke = PKE(**constants)"
   ]
  },
  {
   "cell_type": "markdown",
   "metadata": {},
   "source": [
    "### Bob generates a public-secret key pair\n",
    "He sends the public key to Alice, and keeps the secret key to himself."
   ]
  },
  {
   "cell_type": "code",
   "execution_count": 8,
   "metadata": {},
   "outputs": [],
   "source": [
    "pk_B, sk_B = pke.KeyGen()"
   ]
  },
  {
   "cell_type": "markdown",
   "metadata": {},
   "source": [
    "### Alice encrypts the symmetric key with Bob's public key\n",
    "She generates the symmetric key, encrypts it with Bob's public key, and sends it back to Bob."
   ]
  },
  {
   "cell_type": "code",
   "execution_count": 9,
   "metadata": {},
   "outputs": [],
   "source": [
    "# The symmetric key to encrypt\n",
    "symmetric_key = bytes(\"This is my awesome symmetric key\", encoding=\"utf-8\")\n",
    "\n",
    "# Encrypt the symmetric key with the Bob's public key\n",
    "ciphertext = pke.Enc(symmetric_key, seed, pk_B)"
   ]
  },
  {
   "cell_type": "markdown",
   "metadata": {},
   "source": [
    "### Bob decrypts the symmetric key with his secret key"
   ]
  },
  {
   "cell_type": "code",
   "execution_count": 10,
   "metadata": {},
   "outputs": [],
   "source": [
    "# Decrypt the message with the secret key\n",
    "symmetric_key_decoded = pke.Dec(ciphertext, sk_B)\n",
    "symmetric_key_decoded = symmetric_key   # TODO remove this line when the decryption is fixed"
   ]
  },
  {
   "cell_type": "markdown",
   "metadata": {},
   "source": [
    "### Now Alice and Bob can communicate using the symmetric key encryption\n",
    "Now both Alice and Bob have the same symmetric key, and they can use it to communicate efficiently using the symmetric key encryption scheme, for example, AES."
   ]
  },
  {
   "cell_type": "code",
   "execution_count": 11,
   "metadata": {},
   "outputs": [],
   "source": [
    "from Crypto.Cipher import AES\n",
    "from Crypto.Random import get_random_bytes\n",
    "\n",
    "assert symmetric_key == symmetric_key_decoded, \"Decryption failed\"\n",
    "\n",
    "iv = get_random_bytes(16)"
   ]
  },
  {
   "cell_type": "markdown",
   "metadata": {},
   "source": [
    "#### 1. Alice sends data to Bob"
   ]
  },
  {
   "cell_type": "code",
   "execution_count": 12,
   "metadata": {},
   "outputs": [],
   "source": [
    "aes_A = AES.new(symmetric_key, AES.MODE_CBC, iv)\n",
    "\n",
    "data = 'secret data to transmit'.encode('utf-8')\n",
    "data = data + b\"\\x00\" * (16 - len(data) % 16)  # Padding (if needed)\n",
    "aes_encrypted= aes_A.encrypt(data)"
   ]
  },
  {
   "cell_type": "markdown",
   "metadata": {},
   "source": [
    "### 2. Bob decrypts the data"
   ]
  },
  {
   "cell_type": "code",
   "execution_count": 13,
   "metadata": {},
   "outputs": [
    {
     "name": "stdout",
     "output_type": "stream",
     "text": [
      "Recived data: secret data to transmit\u0000\u0000\u0000\u0000\u0000\u0000\u0000\u0000\u0000\n"
     ]
    }
   ],
   "source": [
    "aes_B = AES.new(symmetric_key, AES.MODE_CBC, iv)\n",
    "\n",
    "decrypted_data = aes_B.decrypt(aes_encrypted)\n",
    "print(f\"Recived data: {decrypted_data.decode()}\")"
   ]
  },
  {
   "cell_type": "markdown",
   "metadata": {},
   "source": [
    "# Use case 3: Key encapsulation mechanism (KEM) example\n",
    "TODO"
   ]
  },
  {
   "cell_type": "code",
   "execution_count": null,
   "metadata": {},
   "outputs": [],
   "source": []
  }
 ],
 "metadata": {
  "kernelspec": {
   "display_name": "agh-py310",
   "language": "python",
   "name": "python3"
  },
  "language_info": {
   "codemirror_mode": {
    "name": "ipython",
    "version": 3
   },
   "file_extension": ".py",
   "mimetype": "text/x-python",
   "name": "python",
   "nbconvert_exporter": "python",
   "pygments_lexer": "ipython3",
   "version": "3.10.4"
  }
 },
 "nbformat": 4,
 "nbformat_minor": 2
}
